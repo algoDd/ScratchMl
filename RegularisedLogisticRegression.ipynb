{
 "cells": [
  {
   "cell_type": "code",
   "execution_count": 1760,
   "metadata": {
    "collapsed": true
   },
   "outputs": [],
   "source": [
    "import os\n",
    "import numpy as np\n",
    "import pandas as pd\n",
    "import matplotlib.pyplot as plt\n",
    "%matplotlib inline"
   ]
  },
  {
   "cell_type": "code",
   "execution_count": 1761,
   "metadata": {},
   "outputs": [
    {
     "data": {
      "text/html": [
       "<div>\n",
       "<style>\n",
       "    .dataframe thead tr:only-child th {\n",
       "        text-align: right;\n",
       "    }\n",
       "\n",
       "    .dataframe thead th {\n",
       "        text-align: left;\n",
       "    }\n",
       "\n",
       "    .dataframe tbody tr th {\n",
       "        vertical-align: top;\n",
       "    }\n",
       "</style>\n",
       "<table border=\"1\" class=\"dataframe\">\n",
       "  <thead>\n",
       "    <tr style=\"text-align: right;\">\n",
       "      <th></th>\n",
       "      <th>Test1</th>\n",
       "      <th>Test2</th>\n",
       "      <th>Accepted</th>\n",
       "    </tr>\n",
       "  </thead>\n",
       "  <tbody>\n",
       "    <tr>\n",
       "      <th>0</th>\n",
       "      <td>0.051267</td>\n",
       "      <td>0.69956</td>\n",
       "      <td>1</td>\n",
       "    </tr>\n",
       "    <tr>\n",
       "      <th>1</th>\n",
       "      <td>-0.092742</td>\n",
       "      <td>0.68494</td>\n",
       "      <td>1</td>\n",
       "    </tr>\n",
       "    <tr>\n",
       "      <th>2</th>\n",
       "      <td>-0.213710</td>\n",
       "      <td>0.69225</td>\n",
       "      <td>1</td>\n",
       "    </tr>\n",
       "    <tr>\n",
       "      <th>3</th>\n",
       "      <td>-0.375000</td>\n",
       "      <td>0.50219</td>\n",
       "      <td>1</td>\n",
       "    </tr>\n",
       "    <tr>\n",
       "      <th>4</th>\n",
       "      <td>-0.513250</td>\n",
       "      <td>0.46564</td>\n",
       "      <td>1</td>\n",
       "    </tr>\n",
       "  </tbody>\n",
       "</table>\n",
       "</div>"
      ],
      "text/plain": [
       "      Test1    Test2  Accepted\n",
       "0  0.051267  0.69956         1\n",
       "1 -0.092742  0.68494         1\n",
       "2 -0.213710  0.69225         1\n",
       "3 -0.375000  0.50219         1\n",
       "4 -0.513250  0.46564         1"
      ]
     },
     "execution_count": 1761,
     "metadata": {},
     "output_type": "execute_result"
    }
   ],
   "source": [
    "data=pd.read_csv(os.getcwd()+'/data/ex2data2.txt',header=None,names=['Test1','Test2','Accepted'])\n",
    "testdata=data['Test2']\n",
    "positive=data[data['Accepted'].isin([1])]\n",
    "negative=data[data['Accepted'].isin([0])]\n",
    "data.head()"
   ]
  },
  {
   "cell_type": "code",
   "execution_count": 1762,
   "metadata": {
    "scrolled": false
   },
   "outputs": [
    {
     "data": {
      "text/plain": [
       "<matplotlib.collections.PathCollection at 0x7f9b59015910>"
      ]
     },
     "execution_count": 1762,
     "metadata": {},
     "output_type": "execute_result"
    },
    {
     "data": {
      "image/png": "[encoded data removed]",
      "text/plain": [
       "<matplotlib.figure.Figure at 0x7f9b59560250>"
      ]
     },
     "metadata": {},
     "output_type": "display_data"
    }
   ],
   "source": [
    "fig,ax=plt.subplots(figsize=(12,8))\n",
    "ax.scatter(positive['Test1'], positive['Test2'], s=50, c='b', marker='o', label='Accepted')  \n",
    "ax.scatter(negative['Test1'], negative['Test2'], s=50, c='r', marker='x', label='Rejected')  "
   ]
  },
  {
   "cell_type": "code",
   "execution_count": 1763,
   "metadata": {},
   "outputs": [
    {
     "data": {
      "text/html": [
       "<div>\n",
       "<style>\n",
       "    .dataframe thead tr:only-child th {\n",
       "        text-align: right;\n",
       "    }\n",
       "\n",
       "    .dataframe thead th {\n",
       "        text-align: left;\n",
       "    }\n",
       "\n",
       "    .dataframe tbody tr th {\n",
       "        vertical-align: top;\n",
       "    }\n",
       "</style>\n",
       "<table border=\"1\" class=\"dataframe\">\n",
       "  <thead>\n",
       "    <tr style=\"text-align: right;\">\n",
       "      <th></th>\n",
       "      <th>Accepted</th>\n",
       "      <th>Ones</th>\n",
       "      <th>F10</th>\n",
       "      <th>F20</th>\n",
       "      <th>F21</th>\n",
       "      <th>F30</th>\n",
       "      <th>F31</th>\n",
       "      <th>F32</th>\n",
       "      <th>F40</th>\n",
       "      <th>F41</th>\n",
       "      <th>...</th>\n",
       "      <th>F63</th>\n",
       "      <th>F64</th>\n",
       "      <th>F65</th>\n",
       "      <th>F70</th>\n",
       "      <th>F71</th>\n",
       "      <th>F72</th>\n",
       "      <th>F73</th>\n",
       "      <th>F74</th>\n",
       "      <th>F75</th>\n",
       "      <th>F76</th>\n",
       "    </tr>\n",
       "  </thead>\n",
       "  <tbody>\n",
       "    <tr>\n",
       "      <th>0</th>\n",
       "      <td>1</td>\n",
       "      <td>1</td>\n",
       "      <td>0.051267</td>\n",
       "      <td>0.002628</td>\n",
       "      <td>0.035864</td>\n",
       "      <td>0.000135</td>\n",
       "      <td>0.001839</td>\n",
       "      <td>0.025089</td>\n",
       "      <td>0.000007</td>\n",
       "      <td>0.000094</td>\n",
       "      <td>...</td>\n",
       "      <td>0.000046</td>\n",
       "      <td>0.000629</td>\n",
       "      <td>0.008589</td>\n",
       "      <td>9.308192e-10</td>\n",
       "      <td>1.270142e-08</td>\n",
       "      <td>1.733163e-07</td>\n",
       "      <td>0.000002</td>\n",
       "      <td>0.000032</td>\n",
       "      <td>0.000440</td>\n",
       "      <td>0.006009</td>\n",
       "    </tr>\n",
       "    <tr>\n",
       "      <th>1</th>\n",
       "      <td>1</td>\n",
       "      <td>1</td>\n",
       "      <td>-0.092742</td>\n",
       "      <td>0.008601</td>\n",
       "      <td>-0.063523</td>\n",
       "      <td>-0.000798</td>\n",
       "      <td>0.005891</td>\n",
       "      <td>-0.043509</td>\n",
       "      <td>0.000074</td>\n",
       "      <td>-0.000546</td>\n",
       "      <td>...</td>\n",
       "      <td>-0.000256</td>\n",
       "      <td>0.001893</td>\n",
       "      <td>-0.013981</td>\n",
       "      <td>-5.901130e-08</td>\n",
       "      <td>4.358241e-07</td>\n",
       "      <td>-3.218751e-06</td>\n",
       "      <td>0.000024</td>\n",
       "      <td>-0.000176</td>\n",
       "      <td>0.001297</td>\n",
       "      <td>-0.009576</td>\n",
       "    </tr>\n",
       "    <tr>\n",
       "      <th>2</th>\n",
       "      <td>1</td>\n",
       "      <td>1</td>\n",
       "      <td>-0.213710</td>\n",
       "      <td>0.045672</td>\n",
       "      <td>-0.147941</td>\n",
       "      <td>-0.009761</td>\n",
       "      <td>0.031616</td>\n",
       "      <td>-0.102412</td>\n",
       "      <td>0.002086</td>\n",
       "      <td>-0.006757</td>\n",
       "      <td>...</td>\n",
       "      <td>-0.003238</td>\n",
       "      <td>0.010488</td>\n",
       "      <td>-0.033973</td>\n",
       "      <td>-2.035982e-05</td>\n",
       "      <td>6.594958e-05</td>\n",
       "      <td>-2.136241e-04</td>\n",
       "      <td>0.000692</td>\n",
       "      <td>-0.002241</td>\n",
       "      <td>0.007260</td>\n",
       "      <td>-0.023518</td>\n",
       "    </tr>\n",
       "    <tr>\n",
       "      <th>3</th>\n",
       "      <td>1</td>\n",
       "      <td>1</td>\n",
       "      <td>-0.375000</td>\n",
       "      <td>0.140625</td>\n",
       "      <td>-0.188321</td>\n",
       "      <td>-0.052734</td>\n",
       "      <td>0.070620</td>\n",
       "      <td>-0.094573</td>\n",
       "      <td>0.019775</td>\n",
       "      <td>-0.026483</td>\n",
       "      <td>...</td>\n",
       "      <td>-0.006679</td>\n",
       "      <td>0.008944</td>\n",
       "      <td>-0.011978</td>\n",
       "      <td>-1.042843e-03</td>\n",
       "      <td>1.396547e-03</td>\n",
       "      <td>-1.870219e-03</td>\n",
       "      <td>0.002505</td>\n",
       "      <td>-0.003354</td>\n",
       "      <td>0.004492</td>\n",
       "      <td>-0.006015</td>\n",
       "    </tr>\n",
       "    <tr>\n",
       "      <th>4</th>\n",
       "      <td>1</td>\n",
       "      <td>1</td>\n",
       "      <td>-0.513250</td>\n",
       "      <td>0.263426</td>\n",
       "      <td>-0.238990</td>\n",
       "      <td>-0.135203</td>\n",
       "      <td>0.122661</td>\n",
       "      <td>-0.111283</td>\n",
       "      <td>0.069393</td>\n",
       "      <td>-0.062956</td>\n",
       "      <td>...</td>\n",
       "      <td>-0.013650</td>\n",
       "      <td>0.012384</td>\n",
       "      <td>-0.011235</td>\n",
       "      <td>-9.382157e-03</td>\n",
       "      <td>8.511851e-03</td>\n",
       "      <td>-7.722277e-03</td>\n",
       "      <td>0.007006</td>\n",
       "      <td>-0.006356</td>\n",
       "      <td>0.005766</td>\n",
       "      <td>-0.005232</td>\n",
       "    </tr>\n",
       "  </tbody>\n",
       "</table>\n",
       "<p>5 rows × 30 columns</p>\n",
       "</div>"
      ],
      "text/plain": [
       "   Accepted  Ones       F10       F20       F21       F30       F31       F32  \\\n",
       "0         1     1  0.051267  0.002628  0.035864  0.000135  0.001839  0.025089   \n",
       "1         1     1 -0.092742  0.008601 -0.063523 -0.000798  0.005891 -0.043509   \n",
       "2         1     1 -0.213710  0.045672 -0.147941 -0.009761  0.031616 -0.102412   \n",
       "3         1     1 -0.375000  0.140625 -0.188321 -0.052734  0.070620 -0.094573   \n",
       "4         1     1 -0.513250  0.263426 -0.238990 -0.135203  0.122661 -0.111283   \n",
       "\n",
       "        F40       F41    ...          F63       F64       F65           F70  \\\n",
       "0  0.000007  0.000094    ...     0.000046  0.000629  0.008589  9.308192e-10   \n",
       "1  0.000074 -0.000546    ...    -0.000256  0.001893 -0.013981 -5.901130e-08   \n",
       "2  0.002086 -0.006757    ...    -0.003238  0.010488 -0.033973 -2.035982e-05   \n",
       "3  0.019775 -0.026483    ...    -0.006679  0.008944 -0.011978 -1.042843e-03   \n",
       "4  0.069393 -0.062956    ...    -0.013650  0.012384 -0.011235 -9.382157e-03   \n",
       "\n",
       "            F71           F72       F73       F74       F75       F76  \n",
       "0  1.270142e-08  1.733163e-07  0.000002  0.000032  0.000440  0.006009  \n",
       "1  4.358241e-07 -3.218751e-06  0.000024 -0.000176  0.001297 -0.009576  \n",
       "2  6.594958e-05 -2.136241e-04  0.000692 -0.002241  0.007260 -0.023518  \n",
       "3  1.396547e-03 -1.870219e-03  0.002505 -0.003354  0.004492 -0.006015  \n",
       "4  8.511851e-03 -7.722277e-03  0.007006 -0.006356  0.005766 -0.005232  \n",
       "\n",
       "[5 rows x 30 columns]"
      ]
     },
     "execution_count": 1763,
     "metadata": {},
     "output_type": "execute_result"
    }
   ],
   "source": [
    "degree = 8\n",
    "data2=data\n",
    "x1 = data2['Test1']  \n",
    "x2 = data2['Test2']\n",
    "\n",
    "data2.insert(3, 'Ones', 1)\n",
    "\n",
    "for i in range(1, degree):  \n",
    "    for j in range(0, i):\n",
    "        data2['F' + str(i) + str(j)] = np.power(x1, i-j) * np.power(x2, j)\n",
    "\n",
    "data2.drop('Test1', axis=1, inplace=True)  \n",
    "data2.drop('Test2', axis=1, inplace=True)\n",
    "\n",
    "data2.head()  "
   ]
  },
  {
   "cell_type": "code",
   "execution_count": 1764,
   "metadata": {},
   "outputs": [
    {
     "data": {
      "text/html": [
       "<div>\n",
       "<style>\n",
       "    .dataframe thead tr:only-child th {\n",
       "        text-align: right;\n",
       "    }\n",
       "\n",
       "    .dataframe thead th {\n",
       "        text-align: left;\n",
       "    }\n",
       "\n",
       "    .dataframe tbody tr th {\n",
       "        vertical-align: top;\n",
       "    }\n",
       "</style>\n",
       "<table border=\"1\" class=\"dataframe\">\n",
       "  <thead>\n",
       "    <tr style=\"text-align: right;\">\n",
       "      <th></th>\n",
       "      <th>Ones</th>\n",
       "      <th>F10</th>\n",
       "      <th>Test2</th>\n",
       "      <th>F20</th>\n",
       "      <th>F21</th>\n",
       "      <th>F30</th>\n",
       "      <th>F31</th>\n",
       "      <th>F32</th>\n",
       "      <th>F40</th>\n",
       "      <th>F41</th>\n",
       "      <th>...</th>\n",
       "      <th>F63</th>\n",
       "      <th>F64</th>\n",
       "      <th>F65</th>\n",
       "      <th>F70</th>\n",
       "      <th>F71</th>\n",
       "      <th>F72</th>\n",
       "      <th>F73</th>\n",
       "      <th>F74</th>\n",
       "      <th>F75</th>\n",
       "      <th>F76</th>\n",
       "    </tr>\n",
       "  </thead>\n",
       "  <tbody>\n",
       "    <tr>\n",
       "      <th>0</th>\n",
       "      <td>1</td>\n",
       "      <td>0.051267</td>\n",
       "      <td>0.69956</td>\n",
       "      <td>0.002628</td>\n",
       "      <td>0.035864</td>\n",
       "      <td>0.000135</td>\n",
       "      <td>0.001839</td>\n",
       "      <td>0.025089</td>\n",
       "      <td>0.000007</td>\n",
       "      <td>0.000094</td>\n",
       "      <td>...</td>\n",
       "      <td>0.000046</td>\n",
       "      <td>0.000629</td>\n",
       "      <td>0.008589</td>\n",
       "      <td>9.308192e-10</td>\n",
       "      <td>1.270142e-08</td>\n",
       "      <td>1.733163e-07</td>\n",
       "      <td>0.000002</td>\n",
       "      <td>0.000032</td>\n",
       "      <td>0.000440</td>\n",
       "      <td>0.006009</td>\n",
       "    </tr>\n",
       "    <tr>\n",
       "      <th>1</th>\n",
       "      <td>1</td>\n",
       "      <td>-0.092742</td>\n",
       "      <td>0.68494</td>\n",
       "      <td>0.008601</td>\n",
       "      <td>-0.063523</td>\n",
       "      <td>-0.000798</td>\n",
       "      <td>0.005891</td>\n",
       "      <td>-0.043509</td>\n",
       "      <td>0.000074</td>\n",
       "      <td>-0.000546</td>\n",
       "      <td>...</td>\n",
       "      <td>-0.000256</td>\n",
       "      <td>0.001893</td>\n",
       "      <td>-0.013981</td>\n",
       "      <td>-5.901130e-08</td>\n",
       "      <td>4.358241e-07</td>\n",
       "      <td>-3.218751e-06</td>\n",
       "      <td>0.000024</td>\n",
       "      <td>-0.000176</td>\n",
       "      <td>0.001297</td>\n",
       "      <td>-0.009576</td>\n",
       "    </tr>\n",
       "    <tr>\n",
       "      <th>2</th>\n",
       "      <td>1</td>\n",
       "      <td>-0.213710</td>\n",
       "      <td>0.69225</td>\n",
       "      <td>0.045672</td>\n",
       "      <td>-0.147941</td>\n",
       "      <td>-0.009761</td>\n",
       "      <td>0.031616</td>\n",
       "      <td>-0.102412</td>\n",
       "      <td>0.002086</td>\n",
       "      <td>-0.006757</td>\n",
       "      <td>...</td>\n",
       "      <td>-0.003238</td>\n",
       "      <td>0.010488</td>\n",
       "      <td>-0.033973</td>\n",
       "      <td>-2.035982e-05</td>\n",
       "      <td>6.594958e-05</td>\n",
       "      <td>-2.136241e-04</td>\n",
       "      <td>0.000692</td>\n",
       "      <td>-0.002241</td>\n",
       "      <td>0.007260</td>\n",
       "      <td>-0.023518</td>\n",
       "    </tr>\n",
       "    <tr>\n",
       "      <th>3</th>\n",
       "      <td>1</td>\n",
       "      <td>-0.375000</td>\n",
       "      <td>0.50219</td>\n",
       "      <td>0.140625</td>\n",
       "      <td>-0.188321</td>\n",
       "      <td>-0.052734</td>\n",
       "      <td>0.070620</td>\n",
       "      <td>-0.094573</td>\n",
       "      <td>0.019775</td>\n",
       "      <td>-0.026483</td>\n",
       "      <td>...</td>\n",
       "      <td>-0.006679</td>\n",
       "      <td>0.008944</td>\n",
       "      <td>-0.011978</td>\n",
       "      <td>-1.042843e-03</td>\n",
       "      <td>1.396547e-03</td>\n",
       "      <td>-1.870219e-03</td>\n",
       "      <td>0.002505</td>\n",
       "      <td>-0.003354</td>\n",
       "      <td>0.004492</td>\n",
       "      <td>-0.006015</td>\n",
       "    </tr>\n",
       "    <tr>\n",
       "      <th>4</th>\n",
       "      <td>1</td>\n",
       "      <td>-0.513250</td>\n",
       "      <td>0.46564</td>\n",
       "      <td>0.263426</td>\n",
       "      <td>-0.238990</td>\n",
       "      <td>-0.135203</td>\n",
       "      <td>0.122661</td>\n",
       "      <td>-0.111283</td>\n",
       "      <td>0.069393</td>\n",
       "      <td>-0.062956</td>\n",
       "      <td>...</td>\n",
       "      <td>-0.013650</td>\n",
       "      <td>0.012384</td>\n",
       "      <td>-0.011235</td>\n",
       "      <td>-9.382157e-03</td>\n",
       "      <td>8.511851e-03</td>\n",
       "      <td>-7.722277e-03</td>\n",
       "      <td>0.007006</td>\n",
       "      <td>-0.006356</td>\n",
       "      <td>0.005766</td>\n",
       "      <td>-0.005232</td>\n",
       "    </tr>\n",
       "  </tbody>\n",
       "</table>\n",
       "<p>5 rows × 30 columns</p>\n",
       "</div>"
      ],
      "text/plain": [
       "   Ones       F10    Test2       F20       F21       F30       F31       F32  \\\n",
       "0     1  0.051267  0.69956  0.002628  0.035864  0.000135  0.001839  0.025089   \n",
       "1     1 -0.092742  0.68494  0.008601 -0.063523 -0.000798  0.005891 -0.043509   \n",
       "2     1 -0.213710  0.69225  0.045672 -0.147941 -0.009761  0.031616 -0.102412   \n",
       "3     1 -0.375000  0.50219  0.140625 -0.188321 -0.052734  0.070620 -0.094573   \n",
       "4     1 -0.513250  0.46564  0.263426 -0.238990 -0.135203  0.122661 -0.111283   \n",
       "\n",
       "        F40       F41    ...          F63       F64       F65           F70  \\\n",
       "0  0.000007  0.000094    ...     0.000046  0.000629  0.008589  9.308192e-10   \n",
       "1  0.000074 -0.000546    ...    -0.000256  0.001893 -0.013981 -5.901130e-08   \n",
       "2  0.002086 -0.006757    ...    -0.003238  0.010488 -0.033973 -2.035982e-05   \n",
       "3  0.019775 -0.026483    ...    -0.006679  0.008944 -0.011978 -1.042843e-03   \n",
       "4  0.069393 -0.062956    ...    -0.013650  0.012384 -0.011235 -9.382157e-03   \n",
       "\n",
       "            F71           F72       F73       F74       F75       F76  \n",
       "0  1.270142e-08  1.733163e-07  0.000002  0.000032  0.000440  0.006009  \n",
       "1  4.358241e-07 -3.218751e-06  0.000024 -0.000176  0.001297 -0.009576  \n",
       "2  6.594958e-05 -2.136241e-04  0.000692 -0.002241  0.007260 -0.023518  \n",
       "3  1.396547e-03 -1.870219e-03  0.002505 -0.003354  0.004492 -0.006015  \n",
       "4  8.511851e-03 -7.722277e-03  0.007006 -0.006356  0.005766 -0.005232  \n",
       "\n",
       "[5 rows x 30 columns]"
      ]
     },
     "execution_count": 1764,
     "metadata": {},
     "output_type": "execute_result"
    }
   ],
   "source": [
    "cols=data2.shape[1]\n",
    "train=data2.iloc[:,1:cols]\n",
    "train.insert(2,'Test2',testdata)\n",
    "y=data2.iloc[:,0:1]\n",
    "theta=np.matrix(np.zeros(train.shape[1]))\n",
    "tr=train\n",
    "train.head()"
   ]
  },
  {
   "cell_type": "code",
   "execution_count": 1765,
   "metadata": {},
   "outputs": [
    {
     "data": {
      "text/plain": [
       "matrix([[  1.00000000e+00,   5.12670000e-02,   6.99560000e-01, ...,\n",
       "           3.22710867e-05,   4.40352691e-04,   6.00879959e-03],\n",
       "        [  1.00000000e+00,  -9.27420000e-02,   6.84940000e-01, ...,\n",
       "          -1.75565626e-04,   1.29662850e-03,  -9.57616530e-03],\n",
       "        [  1.00000000e+00,  -2.13710000e-01,   6.92250000e-01, ...,\n",
       "          -2.24143625e-03,   7.26046625e-03,  -2.35181216e-02],\n",
       "        ..., \n",
       "        [  1.00000000e+00,  -4.84450000e-01,   9.99270000e-01, ...,\n",
       "          -1.13364813e-01,   2.33836427e-01,  -4.82331978e-01],\n",
       "        [  1.00000000e+00,  -6.33640000e-03,   9.99270000e-01, ...,\n",
       "          -2.53664185e-07,   4.00036314e-05,  -6.30869717e-03],\n",
       "        [  1.00000000e+00,   6.32650000e-01,  -3.06120000e-02, ...,\n",
       "           2.22360353e-07,  -1.07593379e-08,   5.20611480e-10]])"
      ]
     },
     "execution_count": 1765,
     "metadata": {},
     "output_type": "execute_result"
    }
   ],
   "source": [
    "\n",
    "train=np.matrix(train.values)\n",
    "y=np.matrix(y.values)\n",
    "train"
   ]
  },
  {
   "cell_type": "code",
   "execution_count": 1766,
   "metadata": {
    "collapsed": true
   },
   "outputs": [],
   "source": [
    "def sigmoid(z):\n",
    " return 1/(1+(np.exp(-z)))"
   ]
  },
  {
   "cell_type": "code",
   "execution_count": 1767,
   "metadata": {
    "collapsed": true
   },
   "outputs": [],
   "source": [
    "def computecost(x,y,theta,lam):\n",
    "    hx=sigmoid(x*theta.T)\n",
    "    term1=np.multiply(-y,np.log(hx))\n",
    "    term2=np.multiply((1-y),np.log(1-hx))\n",
    "    \n",
    "    reg=(lam/(2*(len(x))))*(np.sum(np.power(theta[:,1:theta.shape[1]],2)))\n",
    "    jtheta=(np.sum(term1-term2)/len(x))+reg\n",
    "    return jtheta"
   ]
  },
  {
   "cell_type": "code",
   "execution_count": 1768,
   "metadata": {},
   "outputs": [
    {
     "data": {
      "text/plain": [
       "0.6931471805599454"
      ]
     },
     "execution_count": 1768,
     "metadata": {},
     "output_type": "execute_result"
    }
   ],
   "source": [
    "computecost(train,y,theta,1)"
   ]
  },
  {
   "cell_type": "code",
   "execution_count": null,
   "metadata": {
    "collapsed": true
   },
   "outputs": [],
   "source": []
  },
  {
   "cell_type": "code",
   "execution_count": 1769,
   "metadata": {},
   "outputs": [],
   "source": [
    "def gradientdecent(train,y,theta,lam,alpha,iters):\n",
    "    temp=np.matrix(np.zeros(theta.shape[1]))\n",
    "    parameters=int(theta.shape[1])\n",
    "    cost=np.zeros(iters)\n",
    "    for i in range(iters):\n",
    "        error=(sigmoid(train*theta.T)-y)\n",
    "        \n",
    "        for j in range(parameters):\n",
    "            term = np.multiply(error, train[:,j])\n",
    "            if(j==0):\n",
    "                temp[0,j]=temp[0,j]-(alpha/(len(train)))*np.sum(term)\n",
    "            else:\n",
    "                temp[0,j]=temp[0,j]-alpha/len(train)*(np.sum(term)+lam*(theta[:,j]))\n",
    "                \n",
    "       #*(+(np.sum(lam/len(train)*(theta[:,j])))) \n",
    "        theta=temp\n",
    "        cost[i]=computecost(train,y,theta,lam)\n",
    "    return theta , cost "
   ]
  },
  {
   "cell_type": "code",
   "execution_count": 1770,
   "metadata": {},
   "outputs": [],
   "source": [
    "lam=0.001\n",
    "alpha=0.9\n",
    "iters=2000\n",
    "t,c=gradientdecent(train,y,theta,lam,alpha,iters)"
   ]
  },
  {
   "cell_type": "code",
   "execution_count": 1771,
   "metadata": {},
   "outputs": [
    {
     "data": {
      "text/plain": [
       "0.48594751969804162"
      ]
     },
     "execution_count": 1771,
     "metadata": {},
     "output_type": "execute_result"
    }
   ],
   "source": [
    "computecost(train,y,t,lam)"
   ]
  },
  {
   "cell_type": "code",
   "execution_count": 1772,
   "metadata": {},
   "outputs": [
    {
     "data": {
      "text/plain": [
       "[<matplotlib.lines.Line2D at 0x7f9b592ad310>]"
      ]
     },
     "execution_count": 1772,
     "metadata": {},
     "output_type": "execute_result"
    },
    {
     "data": {
      "image/png": "[encoded data removed]",
      "text/plain": [
       "<matplotlib.figure.Figure at 0x7f9b5948c910>"
      ]
     },
     "metadata": {},
     "output_type": "display_data"
    }
   ],
   "source": [
    "plt.plot(np.arange(iters),c)"
   ]
  },
  {
   "cell_type": "code",
   "execution_count": 1773,
   "metadata": {},
   "outputs": [
    {
     "name": "stdout",
     "output_type": "stream",
     "text": [
      "accuracy = 89%\n"
     ]
    }
   ],
   "source": [
    "def predict(theta, testmatrix):  \n",
    "    probability = sigmoid( testmatrix* theta.T)\n",
    "    return [1 if x >= 0.5 else 0 for x in probability]\n",
    "\n",
    "theta_min = t\n",
    "predictions = predict(theta_min, train)  \n",
    "correct = [1 if ((a == 1 and b == 1) or (a == 0 and b == 0)) else 0 for (a, b) in zip(predictions, y)]  \n",
    "accuracy = (sum(map(int, correct)) % len(correct))  \n",
    "print 'accuracy = {0}%'.format(accuracy)\n",
    "\n",
    "tr.insert(0,'predicted',predictions)\n"
   ]
  },
  {
   "cell_type": "code",
   "execution_count": null,
   "metadata": {},
   "outputs": [],
   "source": []
  },
  {
   "cell_type": "code",
   "execution_count": 1774,
   "metadata": {},
   "outputs": [
    {
     "data": {
      "text/plain": [
       "<matplotlib.collections.PathCollection at 0x7f9b58eb2e50>"
      ]
     },
     "execution_count": 1774,
     "metadata": {},
     "output_type": "execute_result"
    },
    {
     "data": {
      "image/png": "[encoded data removed]",
      "text/plain": [
       "<matplotlib.figure.Figure at 0x7f9b5910c3d0>"
      ]
     },
     "metadata": {},
     "output_type": "display_data"
    }
   ],
   "source": [
    "positive1=tr[tr['predicted'].isin([1])]\n",
    "negative1=tr[tr['predicted'].isin([0])]\n",
    "fig,ax=plt.subplots(figsize=(12,8))\n",
    "ax.scatter(positive['Test1'], positive['Test2'], s=50, c='b', marker='o', label='Accepted')  \n",
    "ax.scatter(negative['Test1'], negative['Test2'], s=50, c='r', marker='x', label='Rejected')\n",
    "ax.scatter(positive1['F10'], positive1['Test2'], s=10,c='r',marker='o', label='Admitted(Predicted)')  \n",
    "ax.scatter(negative1['F10'], negative1['Test2'], s=10,c='b',marker='x', label='Not Admitted(Predicted)')"
   ]
  },
  {
   "cell_type": "code",
   "execution_count": null,
   "metadata": {},
   "outputs": [],
   "source": []
  },
  {
   "cell_type": "code",
   "execution_count": null,
   "metadata": {
    "collapsed": true
   },
   "outputs": [],
   "source": []
  }
 ],
 "metadata": {
  "kernelspec": {
   "display_name": "Python 2",
   "language": "python",
   "name": "python2"
  },
  "language_info": {
   "codemirror_mode": {
    "name": "ipython",
    "version": 2
   },
   "file_extension": ".py",
   "mimetype": "text/x-python",
   "name": "python",
   "nbconvert_exporter": "python",
   "pygments_lexer": "ipython2",
   "version": "2.7.14"
  }
 },
 "nbformat": 4,
 "nbformat_minor": 2
}
